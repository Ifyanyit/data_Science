{
 "cells": [
  {
   "cell_type": "markdown",
   "id": "d5152e7c",
   "metadata": {},
   "source": [
    "# NUMPY"
   ]
  },
  {
   "cell_type": "markdown",
   "id": "dfadae51",
   "metadata": {},
   "source": [
    "Numpy is a general-purpose array-processing package. It is a tool for working with arrays."
   ]
  },
  {
   "cell_type": "markdown",
   "id": "fefc76ae",
   "metadata": {},
   "source": [
    "Array in Numpy is a table of elements (usually numbers), all of the same type, indexed by a tuple of positive integers. \n",
    "\n",
    "Number of dimension is called RANK.\n",
    "An array class in Numpy is called as ndarray.\n",
    "Numpy arrays are accessed by using square brackets and can be initialized by using nested Python Lists."
   ]
  },
  {
   "cell_type": "markdown",
   "id": "1d3f622b",
   "metadata": {},
   "source": [
    "## Creating numpy array"
   ]
  },
  {
   "cell_type": "markdown",
   "id": "a350c032",
   "metadata": {},
   "source": [
    "#### Creating array of rank 1."
   ]
  },
  {
   "cell_type": "code",
   "execution_count": 1,
   "id": "febc7d7d",
   "metadata": {},
   "outputs": [],
   "source": [
    "import numpy as np"
   ]
  },
  {
   "cell_type": "code",
   "execution_count": 2,
   "id": "335cdfbd",
   "metadata": {},
   "outputs": [
    {
     "name": "stdout",
     "output_type": "stream",
     "text": [
      "An array of rank 1 : \n",
      " [1 2 3]\n"
     ]
    }
   ],
   "source": [
    "arr = np.array([1,2,3])\n",
    "print(\"An array of rank 1 : \\n\", arr)"
   ]
  },
  {
   "cell_type": "markdown",
   "id": "a7b1f9dc",
   "metadata": {},
   "source": [
    "#### Creating array of rank 2. Two dimensional array. "
   ]
  },
  {
   "cell_type": "code",
   "execution_count": 3,
   "id": "606d3ab6",
   "metadata": {},
   "outputs": [
    {
     "name": "stdout",
     "output_type": "stream",
     "text": [
      "An array of rank 2: \n",
      " [[1 2 3]\n",
      " [4 5 6]]\n"
     ]
    }
   ],
   "source": [
    "arr = np.array([[1,2,3],\n",
    "               [4,5,6]])\n",
    "print(\"An array of rank 2: \\n\", arr)"
   ]
  },
  {
   "cell_type": "markdown",
   "id": "e8eebf36",
   "metadata": {},
   "source": [
    "#### Creating an array using Tuple"
   ]
  },
  {
   "cell_type": "code",
   "execution_count": 4,
   "id": "ca044160",
   "metadata": {},
   "outputs": [
    {
     "name": "stdout",
     "output_type": "stream",
     "text": [
      "Array created ith tuple:  [2 3 4]\n"
     ]
    }
   ],
   "source": [
    "arr = np.array((2,3,4))\n",
    "print(\"Array created ith tuple: \", arr)"
   ]
  },
  {
   "cell_type": "markdown",
   "id": "f826c35d",
   "metadata": {},
   "source": [
    "## Accessing arrays using index"
   ]
  },
  {
   "cell_type": "code",
   "execution_count": 5,
   "id": "dfaf53a9",
   "metadata": {},
   "outputs": [
    {
     "name": "stdout",
     "output_type": "stream",
     "text": [
      "Initial Array: \n",
      "[[-1.   2.   0.   4. ]\n",
      " [ 4.  -0.5  6.   0. ]\n",
      " [ 2.6  0.   7.   8. ]\n",
      " [ 3.  -7.   4.   2. ]]\n"
     ]
    }
   ],
   "source": [
    "# Initial an Array\n",
    "arr = np.array([[-1, 2, 0, 4],\n",
    "                [4, -0.5, 6, 0],\n",
    "                [2.6, 0, 7, 8],\n",
    "                [3, -7, 4, 2.0]])\n",
    "print(\"Initial Array: \")\n",
    "print(arr)"
   ]
  },
  {
   "cell_type": "markdown",
   "id": "02a9adac",
   "metadata": {},
   "source": [
    "#### print a range of array"
   ]
  },
  {
   "cell_type": "code",
   "execution_count": 22,
   "id": "88a196a5",
   "metadata": {},
   "outputs": [
    {
     "name": "stdout",
     "output_type": "stream",
     "text": [
      "[[-1.  2.  0.  4.]]\n"
     ]
    }
   ],
   "source": [
    "# prints row 0 and all columns in row 0. [row(0:3), column(0:3)]\n",
    "first_row = arr[:1, :]\n",
    "print(first_row)"
   ]
  },
  {
   "cell_type": "code",
   "execution_count": 23,
   "id": "91359db9",
   "metadata": {},
   "outputs": [
    {
     "name": "stdout",
     "output_type": "stream",
     "text": [
      "[[-1. ]\n",
      " [ 4. ]\n",
      " [ 2.6]\n",
      " [ 3. ]]\n"
     ]
    }
   ],
   "source": [
    "# prints column 0 and and all rows of colunm 0. \n",
    "first_column = arr[:, :1]\n",
    "print(first_column)"
   ]
  },
  {
   "cell_type": "code",
   "execution_count": 21,
   "id": "fde7cedf",
   "metadata": {},
   "outputs": [
    {
     "name": "stdout",
     "output_type": "stream",
     "text": [
      "[[-1.   2. ]\n",
      " [ 4.  -0.5]\n",
      " [ 2.6  0. ]\n",
      " [ 3.  -7. ]]\n"
     ]
    }
   ],
   "source": [
    "# prints column 0 and 1, and all rows of column 0 and 1.\n",
    "first_2columns = arr[:, :2]\n",
    "print(first_2columns)"
   ]
  },
  {
   "cell_type": "code",
   "execution_count": 24,
   "id": "954527fe",
   "metadata": {},
   "outputs": [
    {
     "name": "stdout",
     "output_type": "stream",
     "text": [
      "[[-1.   2. ]\n",
      " [ 4.  -0.5]]\n"
     ]
    }
   ],
   "source": [
    "# print first 2 rows and column 0 t0 1\n",
    "f2c01 = arr[:2, :2]\n",
    "print(f2c01)"
   ]
  },
  {
   "cell_type": "code",
   "execution_count": 25,
   "id": "6522e589",
   "metadata": {},
   "outputs": [
    {
     "name": "stdout",
     "output_type": "stream",
     "text": [
      "[[-1.   2.   0. ]\n",
      " [ 4.  -0.5  6. ]]\n"
     ]
    }
   ],
   "source": [
    "# print first 2 rows and column 0 t0 2\n",
    "f2c01 = arr[:2, :3]\n",
    "print(f2c01)"
   ]
  },
  {
   "cell_type": "code",
   "execution_count": 27,
   "id": "598de0f2",
   "metadata": {},
   "outputs": [
    {
     "name": "stdout",
     "output_type": "stream",
     "text": [
      "[[-1.  0.]\n",
      " [ 4.  6.]]\n"
     ]
    }
   ],
   "source": [
    "# print first 2 rows and column 0 and 2\n",
    "f2c02 = arr[:2, : :2]\n",
    "print(f2c01)"
   ]
  },
  {
   "cell_type": "code",
   "execution_count": 29,
   "id": "f5a52843",
   "metadata": {},
   "outputs": [
    {
     "name": "stdout",
     "output_type": "stream",
     "text": [
      "[0. 6. 2. 3.]\n"
     ]
    }
   ],
   "source": [
    "# Printing elements at\n",
    "# specific Indices\n",
    "# to print elements at an indices, we just print the variable\n",
    "# without np. i.e != np.arr when initializing array.\n",
    "Index_arr = arr[[1, 1, 0, 3], \n",
    "                [3, 2, 1, 0]]\n",
    "print (Index_arr)"
   ]
  },
  {
   "cell_type": "markdown",
   "id": "d4b1a88e",
   "metadata": {},
   "source": [
    "### Basic array operation"
   ]
  },
  {
   "cell_type": "code",
   "execution_count": 30,
   "id": "7b00f2ba",
   "metadata": {},
   "outputs": [],
   "source": [
    "# Python program to demonstrate\n",
    "# basic operations on single array\n",
    "import numpy as np\n",
    " \n",
    "# Defining Array 1\n",
    "a = np.array([[1, 2],\n",
    "              [3, 4]])\n",
    " \n",
    "# Defining Array 2\n",
    "b = np.array([[4, 3],\n",
    "              [2, 1]])"
   ]
  },
  {
   "cell_type": "markdown",
   "id": "f930a81b",
   "metadata": {},
   "source": [
    "#### Adding and subtracting forom elements of an array"
   ]
  },
  {
   "cell_type": "code",
   "execution_count": 32,
   "id": "0b4cd245",
   "metadata": {},
   "outputs": [
    {
     "name": "stdout",
     "output_type": "stream",
     "text": [
      "Adding 1 to every element of array 1: [[2 3]\n",
      " [4 5]]\n"
     ]
    }
   ],
   "source": [
    "# Adding 1 to every element\n",
    "print (\"Adding 1 to every element of array 1:\", a + 1)"
   ]
  },
  {
   "cell_type": "code",
   "execution_count": 33,
   "id": "a4c6b78c",
   "metadata": {},
   "outputs": [
    {
     "name": "stdout",
     "output_type": "stream",
     "text": [
      "\n",
      "Subtracting 2 from each element of Array 2: [[ 2  1]\n",
      " [ 0 -1]]\n"
     ]
    }
   ],
   "source": [
    "# Subtracting 2 from each element\n",
    "print (\"\\nSubtracting 2 from each element of Array 2:\", b - 2)"
   ]
  },
  {
   "cell_type": "markdown",
   "id": "4791bcf7",
   "metadata": {},
   "source": [
    "### Sum of array elements and adding two arrays"
   ]
  },
  {
   "cell_type": "code",
   "execution_count": 39,
   "id": "05953ab6",
   "metadata": {},
   "outputs": [
    {
     "name": "stdout",
     "output_type": "stream",
     "text": [
      "[[1 2]\n",
      " [3 4]]\n",
      "\n",
      "Sum of all array elements in a:  10 \n",
      "\n",
      "[[4 3]\n",
      " [2 1]]\n",
      "\n",
      "Sum of all array elements in b: 10\n"
     ]
    }
   ],
   "source": [
    "# sum of array elements\n",
    "# Performing Unary operations\n",
    "print(a)\n",
    "print (\"\\nSum of all array \"\n",
    "       \"elements in a: \", a.sum(),\"\\n\")\n",
    "print(b)\n",
    "print(\"\\nSum of all array \"\n",
    "       \"elements in b:\",b.sum())"
   ]
  },
  {
   "cell_type": "code",
   "execution_count": 42,
   "id": "baa9322b",
   "metadata": {},
   "outputs": [
    {
     "name": "stdout",
     "output_type": "stream",
     "text": [
      "\n",
      "The sum of arrays a and b:\n",
      " [[5 5]\n",
      " [5 5]]\n",
      "the sum of both arrays is: 20\n"
     ]
    }
   ],
   "source": [
    "# Adding two arrays\n",
    "# Performing Binary operations\n",
    "print (\"\\nThe sum of arrays a and b:\\n\", a + b)\n",
    "print(\"The sum of both arrays is:\", (a+b).sum())"
   ]
  },
  {
   "cell_type": "markdown",
   "id": "05d24d9d",
   "metadata": {},
   "source": [
    "## Data type"
   ]
  },
  {
   "cell_type": "code",
   "execution_count": 45,
   "id": "c07b09d2",
   "metadata": {},
   "outputs": [
    {
     "name": "stdout",
     "output_type": "stream",
     "text": [
      "float64\n",
      "int32\n",
      "int32\n",
      "float64\n"
     ]
    }
   ],
   "source": [
    "print(arr.dtype)\n",
    "print(a.dtype)\n",
    "print(b.dtype)\n",
    "print(f2c01.dtype)"
   ]
  },
  {
   "cell_type": "code",
   "execution_count": 46,
   "id": "e5310438",
   "metadata": {},
   "outputs": [
    {
     "name": "stdout",
     "output_type": "stream",
     "text": [
      "\n",
      "Forcing a Datatype: \n",
      "int64\n"
     ]
    }
   ],
   "source": [
    "# Forced Datatype\n",
    "x = np.array([1, 2], dtype = np.int64)   \n",
    "print(\"\\nForcing a Datatype: \")\n",
    "print(x.dtype)"
   ]
  },
  {
   "cell_type": "markdown",
   "id": "54e5888e",
   "metadata": {},
   "source": [
    "### Math Operations on DataType array"
   ]
  },
  {
   "cell_type": "code",
   "execution_count": 47,
   "id": "29d2335e",
   "metadata": {},
   "outputs": [
    {
     "name": "stdout",
     "output_type": "stream",
     "text": [
      "Addition of Two Arrays: \n",
      "[[ 7. 13.]\n",
      " [ 4. 14.]]\n",
      "\n",
      "Addition of Array elements: \n",
      "19.0\n",
      "\n",
      "Square root of Array1 elements: \n",
      "[[2.         2.64575131]\n",
      " [1.41421356 2.44948974]]\n",
      "\n",
      "Transpose of Array: \n",
      "[[4. 2.]\n",
      " [7. 6.]]\n"
     ]
    }
   ],
   "source": [
    "# First Array\n",
    "arr1 = np.array([[4, 7], [2, 6]], \n",
    "                 dtype = np.float64)\n",
    "                  \n",
    "# Second Array\n",
    "arr2 = np.array([[3, 6], [2, 8]], \n",
    "                 dtype = np.float64) \n",
    " \n",
    "# Addition of two Arrays\n",
    "Sum = np.add(arr1, arr2)\n",
    "print(\"Addition of Two Arrays: \")\n",
    "print(Sum)\n",
    " \n",
    "# Addition of all Array elements\n",
    "# using predefined sum method\n",
    "Sum1 = np.sum(arr1)\n",
    "print(\"\\nAddition of Array elements: \")\n",
    "print(Sum1)\n",
    " \n",
    "# Square root of Array\n",
    "Sqrt = np.sqrt(arr1)\n",
    "print(\"\\nSquare root of Array1 elements: \")\n",
    "print(Sqrt)\n",
    " \n",
    "# Transpose of Array\n",
    "# using In-built function 'T'\n",
    "Trans_arr = arr1.T\n",
    "print(\"\\nTranspose of Array: \")\n",
    "print(Trans_arr)"
   ]
  },
  {
   "cell_type": "code",
   "execution_count": null,
   "id": "136f8375",
   "metadata": {},
   "outputs": [],
   "source": []
  }
 ],
 "metadata": {
  "kernelspec": {
   "display_name": "Python 3 (ipykernel)",
   "language": "python",
   "name": "python3"
  },
  "language_info": {
   "codemirror_mode": {
    "name": "ipython",
    "version": 3
   },
   "file_extension": ".py",
   "mimetype": "text/x-python",
   "name": "python",
   "nbconvert_exporter": "python",
   "pygments_lexer": "ipython3",
   "version": "3.9.13"
  }
 },
 "nbformat": 4,
 "nbformat_minor": 5
}
