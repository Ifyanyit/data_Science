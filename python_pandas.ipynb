{
 "cells": [
  {
   "cell_type": "markdown",
   "id": "dae5223f",
   "metadata": {},
   "source": [
    "# Data Science Tutorial"
   ]
  },
  {
   "cell_type": "markdown",
   "id": "ef3b687f",
   "metadata": {},
   "source": [
    "import panda as pd"
   ]
  },
  {
   "cell_type": "code",
   "execution_count": 1,
   "id": "3c9d52cd",
   "metadata": {},
   "outputs": [],
   "source": [
    "import pandas as pd"
   ]
  },
  {
   "cell_type": "markdown",
   "id": "c0bb2ae1",
   "metadata": {},
   "source": [
    "list of string"
   ]
  },
  {
   "cell_type": "code",
   "execution_count": 6,
   "id": "625887ec",
   "metadata": {},
   "outputs": [],
   "source": [
    "lst = ['Geeks', 'For', 'Geeks', 'Is', 'portal', 'For', 'Geeks']"
   ]
  },
  {
   "cell_type": "markdown",
   "id": "612381ec",
   "metadata": {},
   "source": [
    "Calling DataFrame constructor list"
   ]
  },
  {
   "cell_type": "code",
   "execution_count": 7,
   "id": "8bb30359",
   "metadata": {},
   "outputs": [
    {
     "name": "stdout",
     "output_type": "stream",
     "text": [
      "        0\n",
      "0   Geeks\n",
      "1     For\n",
      "2   Geeks\n",
      "3      Is\n",
      "4  portal\n",
      "5     For\n",
      "6   Geeks\n"
     ]
    }
   ],
   "source": [
    "df = pd.DataFrame(lst)\n",
    "print(df)"
   ]
  },
  {
   "cell_type": "markdown",
   "id": "e7c6ccf3",
   "metadata": {},
   "source": [
    "### Creating DataFrame from dictionary of n array/list"
   ]
  },
  {
   "cell_type": "markdown",
   "id": "5277fe4e",
   "metadata": {},
   "source": [
    "Initializing data of lists."
   ]
  },
  {
   "cell_type": "code",
   "execution_count": 9,
   "id": "47f79845",
   "metadata": {},
   "outputs": [],
   "source": [
    "data = {'Name': ['Tom','Nick', 'krish', 'jack'],\n",
    "       'Age':[20, 21, 19, 18]\n",
    "       }"
   ]
  },
  {
   "cell_type": "markdown",
   "id": "109b2dcb",
   "metadata": {},
   "source": [
    "Creating Dataframe"
   ]
  },
  {
   "cell_type": "code",
   "execution_count": 10,
   "id": "e3247f1e",
   "metadata": {},
   "outputs": [
    {
     "name": "stdout",
     "output_type": "stream",
     "text": [
      "    Name  Age\n",
      "0    Tom   20\n",
      "1   Nick   21\n",
      "2  krish   19\n",
      "3   jack   18\n"
     ]
    }
   ],
   "source": [
    "names = pd.DataFrame(data)\n",
    "print(names)"
   ]
  },
  {
   "cell_type": "markdown",
   "id": "6fb9ce25",
   "metadata": {},
   "source": [
    " Define a dictionary containing employee data"
   ]
  },
  {
   "cell_type": "code",
   "execution_count": 11,
   "id": "f8cd25b3",
   "metadata": {},
   "outputs": [],
   "source": [
    "employees = {'Name':['Jai', 'Princi', 'Gaurav', 'Anuj'],\n",
    "        'Age':[27, 24, 22, 32],\n",
    "        'Address':['Delhi', 'Kanpur', 'Allahabad', 'Kannauj'],\n",
    "        'Qualification':['Msc', 'MA', 'MCA', 'Phd']}"
   ]
  },
  {
   "cell_type": "markdown",
   "id": "2e940824",
   "metadata": {},
   "source": [
    "Convert the dictionary into DataFrame"
   ]
  },
  {
   "cell_type": "code",
   "execution_count": 12,
   "id": "e6090aac",
   "metadata": {},
   "outputs": [],
   "source": [
    "df = pd.DataFrame(employees)"
   ]
  },
  {
   "cell_type": "markdown",
   "id": "8de8dd38",
   "metadata": {},
   "source": [
    "select two columns and print all employees"
   ]
  },
  {
   "cell_type": "code",
   "execution_count": 13,
   "id": "f4fe8c67",
   "metadata": {},
   "outputs": [
    {
     "name": "stdout",
     "output_type": "stream",
     "text": [
      "     Name Qualification\n",
      "0     Jai           Msc\n",
      "1  Princi            MA\n",
      "2  Gaurav           MCA\n",
      "3    Anuj           Phd\n"
     ]
    }
   ],
   "source": [
    "print(df[['Name', 'Qualification']])"
   ]
  },
  {
   "cell_type": "markdown",
   "id": "1b07f0e0",
   "metadata": {},
   "source": [
    "print all columns and rows of employees"
   ]
  },
  {
   "cell_type": "code",
   "execution_count": 14,
   "id": "3a7f8fc3",
   "metadata": {},
   "outputs": [
    {
     "name": "stdout",
     "output_type": "stream",
     "text": [
      "     Name  Age    Address Qualification\n",
      "0     Jai   27      Delhi           Msc\n",
      "1  Princi   24     Kanpur            MA\n",
      "2  Gaurav   22  Allahabad           MCA\n",
      "3    Anuj   32    Kannauj           Phd\n"
     ]
    }
   ],
   "source": [
    "print(df)"
   ]
  },
  {
   "cell_type": "markdown",
   "id": "8b8a5e38",
   "metadata": {},
   "source": [
    "Retrieve row from data using Dataframe.loc[ ]"
   ]
  },
  {
   "cell_type": "code",
   "execution_count": 16,
   "id": "c732af90",
   "metadata": {},
   "outputs": [
    {
     "name": "stdout",
     "output_type": "stream",
     "text": [
      "Name               Jai\n",
      "Age                 27\n",
      "Address          Delhi\n",
      "Qualification      Msc\n",
      "Name: 0, dtype: object \n",
      "\n",
      " Name                Gaurav\n",
      "Age                     22\n",
      "Address          Allahabad\n",
      "Qualification          MCA\n",
      "Name: 2, dtype: object\n"
     ]
    }
   ],
   "source": [
    "first = df.loc[0]\n",
    "second = df.loc[2]\n",
    "print(first, \"\\n\\n\", second)"
   ]
  },
  {
   "cell_type": "markdown",
   "id": "1989b0d0",
   "metadata": {},
   "source": [
    "Reading data from csv file. First column in the file is 'Name'."
   ]
  },
  {
   "cell_type": "code",
   "execution_count": 23,
   "id": "d09721d3",
   "metadata": {},
   "outputs": [],
   "source": [
    "data = pd.read_csv(\"downloads/nba.csv\", index_col = \"Name\")"
   ]
  },
  {
   "cell_type": "code",
   "execution_count": 24,
   "id": "03644f46",
   "metadata": {},
   "outputs": [
    {
     "name": "stdout",
     "output_type": "stream",
     "text": [
      "Team        Boston Celtics\n",
      "Number                 0.0\n",
      "Position                PG\n",
      "Age                   25.0\n",
      "Height                 6-2\n",
      "Weight               180.0\n",
      "College              Texas\n",
      "Salary           7730337.0\n",
      "Name: Avery Bradley, dtype: object \n",
      "\n",
      "\n",
      " Team        Boston Celtics\n",
      "Number                28.0\n",
      "Position                SG\n",
      "Age                   22.0\n",
      "Height                 6-5\n",
      "Weight               185.0\n",
      "College      Georgia State\n",
      "Salary           1148640.0\n",
      "Name: R.J. Hunter, dtype: object\n"
     ]
    }
   ],
   "source": [
    "first = data.loc[\"Avery Bradley\"]\n",
    "second = data.loc[\"R.J. Hunter\"]\n",
    "print(first, \"\\n\\n\\n\", second)"
   ]
  },
  {
   "cell_type": "code",
   "execution_count": 36,
   "id": "4bccb7a9",
   "metadata": {},
   "outputs": [],
   "source": [
    "data = pd.read_csv(\"downloads/nba.csv\")"
   ]
  },
  {
   "cell_type": "markdown",
   "id": "d19e53af",
   "metadata": {},
   "source": [
    "Getting columns"
   ]
  },
  {
   "cell_type": "code",
   "execution_count": 39,
   "id": "74f66ff0",
   "metadata": {},
   "outputs": [
    {
     "name": "stdout",
     "output_type": "stream",
     "text": [
      "              Name   Age\n",
      "0    Avery Bradley  25.0\n",
      "1      Jae Crowder  25.0\n",
      "2     John Holland  27.0\n",
      "3      R.J. Hunter  22.0\n",
      "4    Jonas Jerebko  29.0\n",
      "..             ...   ...\n",
      "453   Shelvin Mack  26.0\n",
      "454      Raul Neto  24.0\n",
      "455   Tibor Pleiss  26.0\n",
      "456    Jeff Withey  26.0\n",
      "457            NaN   NaN\n",
      "\n",
      "[458 rows x 2 columns]\n"
     ]
    }
   ],
   "source": [
    "first = data[[\"Name\", \"Age\"]]\n",
    "print(first)"
   ]
  },
  {
   "cell_type": "markdown",
   "id": "895fa5fd",
   "metadata": {},
   "source": [
    "Using .iloc[] or .loc[] to index rows"
   ]
  },
  {
   "cell_type": "code",
   "execution_count": 43,
   "id": "1213b2a5",
   "metadata": {},
   "outputs": [
    {
     "name": "stdout",
     "output_type": "stream",
     "text": [
      "Name         Avery Bradley\n",
      "Team        Boston Celtics\n",
      "Number                 0.0\n",
      "Position                PG\n",
      "Age                   25.0\n",
      "Height                 6-2\n",
      "Weight               180.0\n",
      "College              Texas\n",
      "Salary           7730337.0\n",
      "Name: 0, dtype: object \n",
      "\n",
      " Name             John Holland\n",
      "Team           Boston Celtics\n",
      "Number                   30.0\n",
      "Position                   SG\n",
      "Age                      27.0\n",
      "Height                    6-5\n",
      "Weight                  205.0\n",
      "College     Boston University\n",
      "Salary                    NaN\n",
      "Name: 2, dtype: object\n"
     ]
    }
   ],
   "source": [
    "first = data.loc[0]\n",
    "second = data.iloc[2]\n",
    "print(first, \"\\n\\n\", second)"
   ]
  },
  {
   "cell_type": "markdown",
   "id": "c80a5e33",
   "metadata": {},
   "source": [
    "Checking for missing values using isnull() or notnull()"
   ]
  },
  {
   "cell_type": "code",
   "execution_count": 44,
   "id": "03e13086",
   "metadata": {},
   "outputs": [
    {
     "name": "stdout",
     "output_type": "stream",
     "text": [
      "      Name   Team  Number  Position    Age  Height  Weight  College  Salary\n",
      "0    False  False   False     False  False   False   False    False   False\n",
      "1    False  False   False     False  False   False   False    False   False\n",
      "2    False  False   False     False  False   False   False    False    True\n",
      "3    False  False   False     False  False   False   False    False   False\n",
      "4    False  False   False     False  False   False   False     True   False\n",
      "..     ...    ...     ...       ...    ...     ...     ...      ...     ...\n",
      "453  False  False   False     False  False   False   False    False   False\n",
      "454  False  False   False     False  False   False   False     True   False\n",
      "455  False  False   False     False  False   False   False     True   False\n",
      "456  False  False   False     False  False   False   False    False   False\n",
      "457   True   True    True      True   True    True    True     True    True\n",
      "\n",
      "[458 rows x 9 columns]\n"
     ]
    }
   ],
   "source": [
    "empty = data.isnull()\n",
    "print(empty)"
   ]
  },
  {
   "cell_type": "markdown",
   "id": "1c6a4703",
   "metadata": {},
   "source": [
    "Filling missing value using fillna(), replace() or interpolate()"
   ]
  },
  {
   "cell_type": "code",
   "execution_count": 49,
   "id": "9ca21af8",
   "metadata": {},
   "outputs": [
    {
     "data": {
      "text/html": [
       "<div>\n",
       "<style scoped>\n",
       "    .dataframe tbody tr th:only-of-type {\n",
       "        vertical-align: middle;\n",
       "    }\n",
       "\n",
       "    .dataframe tbody tr th {\n",
       "        vertical-align: top;\n",
       "    }\n",
       "\n",
       "    .dataframe thead th {\n",
       "        text-align: right;\n",
       "    }\n",
       "</style>\n",
       "<table border=\"1\" class=\"dataframe\">\n",
       "  <thead>\n",
       "    <tr style=\"text-align: right;\">\n",
       "      <th></th>\n",
       "      <th>First Score</th>\n",
       "      <th>Second Score</th>\n",
       "      <th>Third Score</th>\n",
       "    </tr>\n",
       "  </thead>\n",
       "  <tbody>\n",
       "    <tr>\n",
       "      <th>0</th>\n",
       "      <td>100.0</td>\n",
       "      <td>30.0</td>\n",
       "      <td>0.0</td>\n",
       "    </tr>\n",
       "    <tr>\n",
       "      <th>1</th>\n",
       "      <td>90.0</td>\n",
       "      <td>45.0</td>\n",
       "      <td>40.0</td>\n",
       "    </tr>\n",
       "    <tr>\n",
       "      <th>2</th>\n",
       "      <td>0.0</td>\n",
       "      <td>56.0</td>\n",
       "      <td>80.0</td>\n",
       "    </tr>\n",
       "    <tr>\n",
       "      <th>3</th>\n",
       "      <td>95.0</td>\n",
       "      <td>0.0</td>\n",
       "      <td>98.0</td>\n",
       "    </tr>\n",
       "  </tbody>\n",
       "</table>\n",
       "</div>"
      ],
      "text/plain": [
       "   First Score  Second Score  Third Score\n",
       "0        100.0          30.0          0.0\n",
       "1         90.0          45.0         40.0\n",
       "2          0.0          56.0         80.0\n",
       "3         95.0           0.0         98.0"
      ]
     },
     "execution_count": 49,
     "metadata": {},
     "output_type": "execute_result"
    }
   ],
   "source": [
    "# importing numpy as np\n",
    "import numpy as np\n",
    " \n",
    "# dictionary of lists\n",
    "dict = {'First Score':[100, 90, np.nan, 95],\n",
    "        'Second Score': [30, 45, 56, np.nan],\n",
    "        'Third Score':[np.nan, 40, 80, 98]}\n",
    " \n",
    "# creating a dataframe from dictionary\n",
    "df = pd.DataFrame(dict)\n",
    " \n",
    "# filling missing value using fillna()  \n",
    "df.fillna(0)"
   ]
  },
  {
   "cell_type": "markdown",
   "id": "02e3695d",
   "metadata": {},
   "source": [
    "Dropping missing values using dropna()"
   ]
  },
  {
   "cell_type": "code",
   "execution_count": 53,
   "id": "99e874bc",
   "metadata": {},
   "outputs": [
    {
     "data": {
      "text/html": [
       "<div>\n",
       "<style scoped>\n",
       "    .dataframe tbody tr th:only-of-type {\n",
       "        vertical-align: middle;\n",
       "    }\n",
       "\n",
       "    .dataframe tbody tr th {\n",
       "        vertical-align: top;\n",
       "    }\n",
       "\n",
       "    .dataframe thead th {\n",
       "        text-align: right;\n",
       "    }\n",
       "</style>\n",
       "<table border=\"1\" class=\"dataframe\">\n",
       "  <thead>\n",
       "    <tr style=\"text-align: right;\">\n",
       "      <th></th>\n",
       "      <th>First Score</th>\n",
       "      <th>Second Score</th>\n",
       "      <th>Third Score</th>\n",
       "      <th>Fourth Score</th>\n",
       "    </tr>\n",
       "  </thead>\n",
       "  <tbody>\n",
       "    <tr>\n",
       "      <th>0</th>\n",
       "      <td>100.0</td>\n",
       "      <td>30.0</td>\n",
       "      <td>52</td>\n",
       "      <td>NaN</td>\n",
       "    </tr>\n",
       "    <tr>\n",
       "      <th>1</th>\n",
       "      <td>90.0</td>\n",
       "      <td>NaN</td>\n",
       "      <td>40</td>\n",
       "      <td>NaN</td>\n",
       "    </tr>\n",
       "    <tr>\n",
       "      <th>2</th>\n",
       "      <td>NaN</td>\n",
       "      <td>45.0</td>\n",
       "      <td>80</td>\n",
       "      <td>NaN</td>\n",
       "    </tr>\n",
       "    <tr>\n",
       "      <th>3</th>\n",
       "      <td>95.0</td>\n",
       "      <td>56.0</td>\n",
       "      <td>98</td>\n",
       "      <td>65.0</td>\n",
       "    </tr>\n",
       "  </tbody>\n",
       "</table>\n",
       "</div>"
      ],
      "text/plain": [
       "   First Score  Second Score  Third Score  Fourth Score\n",
       "0        100.0          30.0           52           NaN\n",
       "1         90.0           NaN           40           NaN\n",
       "2          NaN          45.0           80           NaN\n",
       "3         95.0          56.0           98          65.0"
      ]
     },
     "execution_count": 53,
     "metadata": {},
     "output_type": "execute_result"
    }
   ],
   "source": [
    "# importing pandas as pd\n",
    "import pandas as pd\n",
    " \n",
    "# importing numpy as np\n",
    "import numpy as np\n",
    " \n",
    "# dictionary of lists\n",
    "dict = {'First Score':[100, 90, np.nan, 95],\n",
    "        'Second Score': [30, np.nan, 45, 56],\n",
    "        'Third Score':[52, 40, 80, 98],\n",
    "        'Fourth Score':[np.nan, np.nan, np.nan, 65]}\n",
    " \n",
    "# creating a dataframe from dictionary\n",
    "df = pd.DataFrame(dict)\n",
    "   \n",
    "#print(df)\n",
    "df"
   ]
  },
  {
   "cell_type": "code",
   "execution_count": 54,
   "id": "6f19fbaf",
   "metadata": {},
   "outputs": [
    {
     "data": {
      "text/html": [
       "<div>\n",
       "<style scoped>\n",
       "    .dataframe tbody tr th:only-of-type {\n",
       "        vertical-align: middle;\n",
       "    }\n",
       "\n",
       "    .dataframe tbody tr th {\n",
       "        vertical-align: top;\n",
       "    }\n",
       "\n",
       "    .dataframe thead th {\n",
       "        text-align: right;\n",
       "    }\n",
       "</style>\n",
       "<table border=\"1\" class=\"dataframe\">\n",
       "  <thead>\n",
       "    <tr style=\"text-align: right;\">\n",
       "      <th></th>\n",
       "      <th>First Score</th>\n",
       "      <th>Second Score</th>\n",
       "      <th>Third Score</th>\n",
       "      <th>Fourth Score</th>\n",
       "    </tr>\n",
       "  </thead>\n",
       "  <tbody>\n",
       "    <tr>\n",
       "      <th>3</th>\n",
       "      <td>95.0</td>\n",
       "      <td>56.0</td>\n",
       "      <td>98</td>\n",
       "      <td>65.0</td>\n",
       "    </tr>\n",
       "  </tbody>\n",
       "</table>\n",
       "</div>"
      ],
      "text/plain": [
       "   First Score  Second Score  Third Score  Fourth Score\n",
       "3         95.0          56.0           98          65.0"
      ]
     },
     "execution_count": 54,
     "metadata": {},
     "output_type": "execute_result"
    }
   ],
   "source": [
    "# using dropna() function  \n",
    "df.dropna()"
   ]
  },
  {
   "cell_type": "markdown",
   "id": "d637d92f",
   "metadata": {},
   "source": [
    "Iterating over rows and columns"
   ]
  },
  {
   "cell_type": "code",
   "execution_count": 59,
   "id": "277f5a5a",
   "metadata": {},
   "outputs": [
    {
     "name": "stdout",
     "output_type": "stream",
     "text": [
      "     name  degree  score\n",
      "0  aparna     MBA     90\n",
      "1  pankaj     BCA     40\n",
      "2  sudhir  M.Tech     80\n",
      "3   Geeku     MBA     98\n"
     ]
    }
   ],
   "source": [
    "# importing pandas as pd\n",
    "import pandas as pd\n",
    "  \n",
    "# dictionary of lists\n",
    "dict = {'name':[\"aparna\", \"pankaj\", \"sudhir\", \"Geeku\"],\n",
    "        'degree': [\"MBA\", \"BCA\", \"M.Tech\", \"MBA\"],\n",
    "        'score':[90, 40, 80, 98]}\n",
    " \n",
    "# creating a dataframe from a dictionary \n",
    "df = pd.DataFrame(dict)\n",
    "print(df)"
   ]
  },
  {
   "cell_type": "code",
   "execution_count": 60,
   "id": "006c6a07",
   "metadata": {},
   "outputs": [
    {
     "name": "stdout",
     "output_type": "stream",
     "text": [
      "0 name      aparna\n",
      "degree       MBA\n",
      "score         90\n",
      "Name: 0, dtype: object\n",
      "\n",
      "1 name      pankaj\n",
      "degree       BCA\n",
      "score         40\n",
      "Name: 1, dtype: object\n",
      "\n",
      "2 name      sudhir\n",
      "degree    M.Tech\n",
      "score         80\n",
      "Name: 2, dtype: object\n",
      "\n",
      "3 name      Geeku\n",
      "degree      MBA\n",
      "score        98\n",
      "Name: 3, dtype: object\n",
      "\n"
     ]
    }
   ],
   "source": [
    "# iterating over rows using iterrows() function \n",
    "for i, j in df.iterrows():\n",
    "    print(i, j)\n",
    "    print()"
   ]
  },
  {
   "cell_type": "code",
   "execution_count": 61,
   "id": "6cb84520",
   "metadata": {},
   "outputs": [
    {
     "name": "stdout",
     "output_type": "stream",
     "text": [
      "sudhir\n",
      "M.Tech\n",
      "80\n"
     ]
    }
   ],
   "source": [
    "# creating a list of dataframe columns\n",
    "columns = list(df)\n",
    " \n",
    "for i in columns:\n",
    " \n",
    "    # printing the third element of the column\n",
    "    print (df[i][2])"
   ]
  },
  {
   "cell_type": "code",
   "execution_count": null,
   "id": "32e816a0",
   "metadata": {},
   "outputs": [],
   "source": []
  }
 ],
 "metadata": {
  "kernelspec": {
   "display_name": "Python 3 (ipykernel)",
   "language": "python",
   "name": "python3"
  },
  "language_info": {
   "codemirror_mode": {
    "name": "ipython",
    "version": 3
   },
   "file_extension": ".py",
   "mimetype": "text/x-python",
   "name": "python",
   "nbconvert_exporter": "python",
   "pygments_lexer": "ipython3",
   "version": "3.9.13"
  }
 },
 "nbformat": 4,
 "nbformat_minor": 5
}
